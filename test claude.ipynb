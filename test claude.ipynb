{
 "cells": [
  {
   "cell_type": "code",
   "execution_count": 2,
   "id": "ba3c250f",
   "metadata": {},
   "outputs": [],
   "source": [
    "import torch\n",
    "from pathlib import Path\n",
    "import torch\n"
   ]
  },
  {
   "cell_type": "code",
   "execution_count": 3,
   "id": "715ae77a",
   "metadata": {},
   "outputs": [
    {
     "data": {
      "text/plain": [
       "'cuda'"
      ]
     },
     "execution_count": 3,
     "metadata": {},
     "output_type": "execute_result"
    }
   ],
   "source": [
    "# Setup device-agnostic code\n",
    "device = \"cuda\" if torch.cuda.is_available() else \"cpu\"\n",
    "torch.set_default_device(device)\n",
    "device"
   ]
  },
  {
   "cell_type": "code",
   "execution_count": 4,
   "id": "6d22e037",
   "metadata": {},
   "outputs": [
    {
     "name": "stdout",
     "output_type": "stream",
     "text": [
      "Dataset class distribution: {0: 38, 1: 31, 2: 42, 3: 31, 4: 38, 5: 34, 6: 37, 7: 35, 8: 28, 9: 25, 10: 30}\n",
      "Found 11 valid classes with at least 12 samples each\n",
      "Automatically split classes:\n",
      "  Training classes (6): Rotor-0, A&C&B10, A&B50, A&C30, Noload, A30\n",
      "  Testing classes (5): A10, Fan, A&C&B30, A&C10, A50\n",
      "Training class distribution: {0: 38, 1: 31, 4: 38, 6: 37, 9: 25, 10: 30}\n",
      "Testing class distribution: {2: 42, 3: 31, 5: 34, 7: 35, 8: 28}\n",
      "Using n_way=5 for training, n_way=5 for testing\n",
      "Valid classes for sampling: 6\n",
      "Classes with counts: [(0, 38), (1, 31), (4, 38), (6, 37), (9, 25), (10, 30)]\n",
      "Valid classes for sampling: 5\n",
      "Classes with counts: [(2, 42), (3, 31), (5, 34), (7, 35), (8, 28)]\n"
     ]
    },
    {
     "data": {
      "text/plain": [
       "(369,\n",
       " 11,\n",
       " {'A&B50': 0,\n",
       "  'A&C&B10': 1,\n",
       "  'A&C&B30': 2,\n",
       "  'A&C10': 3,\n",
       "  'A&C30': 4,\n",
       "  'A10': 5,\n",
       "  'A30': 6,\n",
       "  'A50': 7,\n",
       "  'Fan': 8,\n",
       "  'Noload': 9,\n",
       "  'Rotor-0': 10},\n",
       " torch.Size([3, 128, 128]),\n",
       " 0,\n",
       " 5,\n",
       " 5)"
      ]
     },
     "execution_count": 4,
     "metadata": {},
     "output_type": "execute_result"
    }
   ],
   "source": [
    "from modular.data_setup import  setup_fsl_train_test_dataloaders\n",
    "data_path = Path(\"data/\")\n",
    "\n",
    "train_loader, test_loader, fsl_dataset,(train_n_way, test_n_way) = setup_fsl_train_test_dataloaders(data_path,train_episodes=400,test_episodes=300,n_way=5,k_shot=3,q_query=9)\n",
    "\n",
    "len(fsl_dataset), len(fsl_dataset.classes), fsl_dataset.class_to_idx, fsl_dataset[0][0].shape, fsl_dataset[0][1] , train_n_way,test_n_way"
   ]
  },
  {
   "cell_type": "code",
   "execution_count": 5,
   "id": "24a28428",
   "metadata": {},
   "outputs": [],
   "source": [
    "# from modular.utils import display_random_images\n",
    "# display_random_images(fsl_dataset, classes=fsl_dataset.classes, n=10, display_shape=True, seed=42)\n",
    "# #             "
   ]
  },
  {
   "cell_type": "code",
   "execution_count": 6,
   "id": "f39ec66a",
   "metadata": {},
   "outputs": [],
   "source": [
    "from modular.model_builder  import PrototypicalNetwork\n",
    "model = PrototypicalNetwork(embedding_dim=128)"
   ]
  },
  {
   "cell_type": "code",
   "execution_count": 7,
   "id": "509d12ee",
   "metadata": {},
   "outputs": [
    {
     "data": {
      "text/plain": [
       "=============================================================================================================================\n",
       "Layer (type (var_name))                       Input Shape          Output Shape         Param #              Trainable\n",
       "=============================================================================================================================\n",
       "PrototypicalNetwork (PrototypicalNetwork)     [32, 3, 128, 128]    [32, 128]            --                   Partial\n",
       "├─Sequential (encoder)                        [32, 3, 128, 128]    [32, 512, 1, 1]      --                   False\n",
       "│    └─Conv2d (0)                             [32, 3, 128, 128]    [32, 64, 64, 64]     (9,408)              False\n",
       "│    └─BatchNorm2d (1)                        [32, 64, 64, 64]     [32, 64, 64, 64]     (128)                False\n",
       "│    └─ReLU (2)                               [32, 64, 64, 64]     [32, 64, 64, 64]     --                   --\n",
       "│    └─MaxPool2d (3)                          [32, 64, 64, 64]     [32, 64, 32, 32]     --                   --\n",
       "│    └─Sequential (4)                         [32, 64, 32, 32]     [32, 64, 32, 32]     --                   False\n",
       "│    │    └─BasicBlock (0)                    [32, 64, 32, 32]     [32, 64, 32, 32]     (73,984)             False\n",
       "│    │    └─BasicBlock (1)                    [32, 64, 32, 32]     [32, 64, 32, 32]     (73,984)             False\n",
       "│    └─Sequential (5)                         [32, 64, 32, 32]     [32, 128, 16, 16]    --                   False\n",
       "│    │    └─BasicBlock (0)                    [32, 64, 32, 32]     [32, 128, 16, 16]    (230,144)            False\n",
       "│    │    └─BasicBlock (1)                    [32, 128, 16, 16]    [32, 128, 16, 16]    (295,424)            False\n",
       "│    └─Sequential (6)                         [32, 128, 16, 16]    [32, 256, 8, 8]      --                   False\n",
       "│    │    └─BasicBlock (0)                    [32, 128, 16, 16]    [32, 256, 8, 8]      (919,040)            False\n",
       "│    │    └─BasicBlock (1)                    [32, 256, 8, 8]      [32, 256, 8, 8]      (1,180,672)          False\n",
       "│    └─Sequential (7)                         [32, 256, 8, 8]      [32, 512, 4, 4]      --                   False\n",
       "│    │    └─BasicBlock (0)                    [32, 256, 8, 8]      [32, 512, 4, 4]      (3,673,088)          False\n",
       "│    │    └─BasicBlock (1)                    [32, 512, 4, 4]      [32, 512, 4, 4]      (4,720,640)          False\n",
       "│    └─AdaptiveAvgPool2d (8)                  [32, 512, 4, 4]      [32, 512, 1, 1]      --                   --\n",
       "├─Sequential (embedding)                      [32, 512]            [32, 128]            --                   True\n",
       "│    └─Dropout (0)                            [32, 512]            [32, 512]            --                   --\n",
       "│    └─Linear (1)                             [32, 512]            [32, 128]            65,664               True\n",
       "│    └─BatchNorm1d (2)                        [32, 128]            [32, 128]            256                  True\n",
       "=============================================================================================================================\n",
       "Total params: 11,242,432\n",
       "Trainable params: 65,920\n",
       "Non-trainable params: 11,176,512\n",
       "Total mult-adds (Units.GIGABYTES): 18.95\n",
       "=============================================================================================================================\n",
       "Input size (MB): 6.29\n",
       "Forward/backward pass size (MB): 415.30\n",
       "Params size (MB): 44.97\n",
       "Estimated Total Size (MB): 466.56\n",
       "============================================================================================================================="
      ]
     },
     "execution_count": 7,
     "metadata": {},
     "output_type": "execute_result"
    }
   ],
   "source": [
    "from torchinfo import summary\n",
    "# Print a summary using torchinfo (uncomment for actual output)\n",
    "summary(model=model, \n",
    "        input_size=(32, 3, 128, 128), # make sure this is \"input_size\", not \"input_shape\"\n",
    "        # col_names=[\"input_size\"], # uncomment for smaller output\n",
    "        col_names=[\"input_size\", \"output_size\", \"num_params\", \"trainable\"],\n",
    "        col_width=20,\n",
    "        row_settings=[\"var_names\"]\n",
    ") "
   ]
  },
  {
   "cell_type": "code",
   "execution_count": 8,
   "id": "1b9ed7b8",
   "metadata": {},
   "outputs": [
    {
     "name": "stdout",
     "output_type": "stream",
     "text": [
      "Support set: torch.Size([15, 3, 128, 128]), torch.Size([15])\n",
      "Query set: torch.Size([45, 3, 128, 128]), torch.Size([45])\n"
     ]
    }
   ],
   "source": [
    "# Validate dataset and dataloaders\n",
    "for batch in train_loader:\n",
    "    support_images, support_labels, query_images, query_labels = batch\n",
    "    print(f\"Support set: {support_images.shape}, {support_labels.shape}\")\n",
    "    print(f\"Query set: {query_images.shape}, {query_labels.shape}\")\n",
    "    break\n",
    "\n"
   ]
  },
  {
   "cell_type": "code",
   "execution_count": 9,
   "id": "dac16411",
   "metadata": {},
   "outputs": [],
   "source": [
    "optimizer = torch.optim.Adam(model.parameters(), lr=0.001)\n"
   ]
  },
  {
   "cell_type": "code",
   "execution_count": 10,
   "id": "42a01b62",
   "metadata": {},
   "outputs": [],
   "source": [
    "# from modular.engine import prototypical_loss\n",
    "# # Fetch a single batch from the train_loader\n",
    "# for batch in train_loader:\n",
    "#     support_images, support_labels, query_images, query_labels = batch\n",
    "#     break  # Only take the first batch\n",
    "\n",
    "# # Move tensors to the same device as the model\n",
    "# support_images = support_images.to(device)\n",
    "# support_labels = support_labels.to(device)\n",
    "# query_images = query_images.to(device)\n",
    "# query_labels = query_labels.to(device)\n",
    "\n",
    "# # Pass the support and query images through the model\n",
    "# support_embeddings = model(support_images)\n",
    "# query_embeddings = model(query_images)\n",
    "\n",
    "# # Calculate the loss and accuracy\n",
    "# loss, accuracy = prototypical_loss(\n",
    "#     query_embeddings=query_embeddings,\n",
    "#     support_embeddings=support_embeddings,\n",
    "#     query_labels=query_labels,\n",
    "#     support_labels=support_labels,\n",
    "#     n_way=5  # Adjust based on your setup\n",
    "# )\n",
    "\n",
    "# # Print the results\n",
    "# print(f\"Loss: {loss.item():.4f}\")\n",
    "# print(f\"Accuracy: {accuracy:.4f}\")"
   ]
  },
  {
   "cell_type": "code",
   "execution_count": 11,
   "id": "a1cd6ee0",
   "metadata": {},
   "outputs": [
    {
     "name": "stdout",
     "output_type": "stream",
     "text": [
      "Class distribution: Counter({2: 42, 0: 38, 4: 38, 6: 37, 7: 35, 5: 34, 1: 31, 3: 31, 10: 30, 8: 28, 9: 25})\n"
     ]
    }
   ],
   "source": [
    "from collections import Counter\n",
    "\n",
    "class_counts = Counter(fsl_dataset.labels)\n",
    "print(\"Class distribution:\", class_counts)"
   ]
  },
  {
   "cell_type": "code",
   "execution_count": 12,
   "id": "b4a0d51d",
   "metadata": {},
   "outputs": [
    {
     "name": "stdout",
     "output_type": "stream",
     "text": [
      "Training class distribution: Counter({0: 199})\n"
     ]
    }
   ],
   "source": [
    "from collections import Counter\n",
    "\n",
    "train_class_counts = Counter([fsl_dataset.labels[i] for i in train_loader.batch_sampler.labels])\n",
    "print(\"Training class distribution:\", train_class_counts)"
   ]
  },
  {
   "cell_type": "code",
   "execution_count": 13,
   "id": "08897e13",
   "metadata": {},
   "outputs": [
    {
     "name": "stdout",
     "output_type": "stream",
     "text": [
      "\n",
      "Epoch 1/10\n"
     ]
    },
    {
     "data": {
      "application/vnd.jupyter.widget-view+json": {
       "model_id": "ee30fc03b39d488f97e40ce7da38c71c",
       "version_major": 2,
       "version_minor": 0
      },
      "text/plain": [
       "Training:   0%|          | 0/400 [00:00<?, ?it/s]"
      ]
     },
     "metadata": {},
     "output_type": "display_data"
    },
    {
     "data": {
      "application/vnd.jupyter.widget-view+json": {
       "model_id": "712fc1e5d8a346e599a3f449f0a2c4ac",
       "version_major": 2,
       "version_minor": 0
      },
      "text/plain": [
       "Testing:   0%|          | 0/300 [00:00<?, ?it/s]"
      ]
     },
     "metadata": {},
     "output_type": "display_data"
    },
    {
     "name": "stdout",
     "output_type": "stream",
     "text": [
      "Train Loss: 0.6093 | Train Acc: 0.9132 | Test Loss: 0.7694 | Test Acc: 0.9327\n",
      "\n",
      "Epoch 2/10\n"
     ]
    },
    {
     "data": {
      "application/vnd.jupyter.widget-view+json": {
       "model_id": "dba11259a6de44129907c7ceec56b108",
       "version_major": 2,
       "version_minor": 0
      },
      "text/plain": [
       "Training:   0%|          | 0/400 [00:00<?, ?it/s]"
      ]
     },
     "metadata": {},
     "output_type": "display_data"
    },
    {
     "data": {
      "application/vnd.jupyter.widget-view+json": {
       "model_id": "e88c0166e82e4e1d81dc1ae7e2f41b7a",
       "version_major": 2,
       "version_minor": 0
      },
      "text/plain": [
       "Testing:   0%|          | 0/300 [00:00<?, ?it/s]"
      ]
     },
     "metadata": {},
     "output_type": "display_data"
    },
    {
     "name": "stdout",
     "output_type": "stream",
     "text": [
      "Train Loss: 0.5670 | Train Acc: 0.9355 | Test Loss: 0.7335 | Test Acc: 0.9353\n",
      "\n",
      "Epoch 3/10\n"
     ]
    },
    {
     "data": {
      "application/vnd.jupyter.widget-view+json": {
       "model_id": "074867b77a4b46e180ba7748c11b19c6",
       "version_major": 2,
       "version_minor": 0
      },
      "text/plain": [
       "Training:   0%|          | 0/400 [00:00<?, ?it/s]"
      ]
     },
     "metadata": {},
     "output_type": "display_data"
    },
    {
     "data": {
      "application/vnd.jupyter.widget-view+json": {
       "model_id": "3bdbc2e8b8544b2bab2716c80b242f0b",
       "version_major": 2,
       "version_minor": 0
      },
      "text/plain": [
       "Testing:   0%|          | 0/300 [00:00<?, ?it/s]"
      ]
     },
     "metadata": {},
     "output_type": "display_data"
    },
    {
     "name": "stdout",
     "output_type": "stream",
     "text": [
      "Train Loss: 0.5594 | Train Acc: 0.9401 | Test Loss: 0.7369 | Test Acc: 0.9286\n",
      "\n",
      "Epoch 4/10\n"
     ]
    },
    {
     "data": {
      "application/vnd.jupyter.widget-view+json": {
       "model_id": "2f4f18088c394b4fbe85307a11686524",
       "version_major": 2,
       "version_minor": 0
      },
      "text/plain": [
       "Training:   0%|          | 0/400 [00:00<?, ?it/s]"
      ]
     },
     "metadata": {},
     "output_type": "display_data"
    },
    {
     "data": {
      "application/vnd.jupyter.widget-view+json": {
       "model_id": "1d8ddeb42a0e4dad8c7a7ac29ff53fee",
       "version_major": 2,
       "version_minor": 0
      },
      "text/plain": [
       "Testing:   0%|          | 0/300 [00:00<?, ?it/s]"
      ]
     },
     "metadata": {},
     "output_type": "display_data"
    },
    {
     "name": "stdout",
     "output_type": "stream",
     "text": [
      "Train Loss: 0.5465 | Train Acc: 0.9444 | Test Loss: 0.7355 | Test Acc: 0.9365\n",
      "\n",
      "Epoch 5/10\n"
     ]
    },
    {
     "data": {
      "application/vnd.jupyter.widget-view+json": {
       "model_id": "82d8075be898411e85ce1568a49f44d6",
       "version_major": 2,
       "version_minor": 0
      },
      "text/plain": [
       "Training:   0%|          | 0/400 [00:00<?, ?it/s]"
      ]
     },
     "metadata": {},
     "output_type": "display_data"
    },
    {
     "data": {
      "application/vnd.jupyter.widget-view+json": {
       "model_id": "e960525489184a5e832403e370ebd088",
       "version_major": 2,
       "version_minor": 0
      },
      "text/plain": [
       "Testing:   0%|          | 0/300 [00:00<?, ?it/s]"
      ]
     },
     "metadata": {},
     "output_type": "display_data"
    },
    {
     "name": "stdout",
     "output_type": "stream",
     "text": [
      "Train Loss: 0.5483 | Train Acc: 0.9465 | Test Loss: 0.7304 | Test Acc: 0.9387\n",
      "\n",
      "Epoch 6/10\n"
     ]
    },
    {
     "data": {
      "application/vnd.jupyter.widget-view+json": {
       "model_id": "765bd78efcda4baa8852914b1f474f0b",
       "version_major": 2,
       "version_minor": 0
      },
      "text/plain": [
       "Training:   0%|          | 0/400 [00:00<?, ?it/s]"
      ]
     },
     "metadata": {},
     "output_type": "display_data"
    },
    {
     "data": {
      "application/vnd.jupyter.widget-view+json": {
       "model_id": "20172aaa3fb5486f841861cad657d8df",
       "version_major": 2,
       "version_minor": 0
      },
      "text/plain": [
       "Testing:   0%|          | 0/300 [00:00<?, ?it/s]"
      ]
     },
     "metadata": {},
     "output_type": "display_data"
    },
    {
     "name": "stdout",
     "output_type": "stream",
     "text": [
      "Train Loss: 0.5376 | Train Acc: 0.9511 | Test Loss: 0.7381 | Test Acc: 0.9380\n",
      "\n",
      "Epoch 7/10\n"
     ]
    },
    {
     "data": {
      "application/vnd.jupyter.widget-view+json": {
       "model_id": "24d9746ff3c94ace938a97732b38158c",
       "version_major": 2,
       "version_minor": 0
      },
      "text/plain": [
       "Training:   0%|          | 0/400 [00:00<?, ?it/s]"
      ]
     },
     "metadata": {},
     "output_type": "display_data"
    },
    {
     "data": {
      "application/vnd.jupyter.widget-view+json": {
       "model_id": "c9b52d7b8b1e4c9786490937bf3cce52",
       "version_major": 2,
       "version_minor": 0
      },
      "text/plain": [
       "Testing:   0%|          | 0/300 [00:00<?, ?it/s]"
      ]
     },
     "metadata": {},
     "output_type": "display_data"
    },
    {
     "name": "stdout",
     "output_type": "stream",
     "text": [
      "Train Loss: 0.5350 | Train Acc: 0.9517 | Test Loss: 0.7164 | Test Acc: 0.9355\n",
      "\n",
      "Epoch 8/10\n"
     ]
    },
    {
     "data": {
      "application/vnd.jupyter.widget-view+json": {
       "model_id": "c05915bdce194cab8da9a05f0b42f64b",
       "version_major": 2,
       "version_minor": 0
      },
      "text/plain": [
       "Training:   0%|          | 0/400 [00:00<?, ?it/s]"
      ]
     },
     "metadata": {},
     "output_type": "display_data"
    },
    {
     "data": {
      "application/vnd.jupyter.widget-view+json": {
       "model_id": "58409ce7429f4036bde5add57afb1b6d",
       "version_major": 2,
       "version_minor": 0
      },
      "text/plain": [
       "Testing:   0%|          | 0/300 [00:00<?, ?it/s]"
      ]
     },
     "metadata": {},
     "output_type": "display_data"
    },
    {
     "name": "stdout",
     "output_type": "stream",
     "text": [
      "Train Loss: 0.5349 | Train Acc: 0.9506 | Test Loss: 0.7212 | Test Acc: 0.9330\n",
      "\n",
      "Epoch 9/10\n"
     ]
    },
    {
     "data": {
      "application/vnd.jupyter.widget-view+json": {
       "model_id": "85740ba0d4774c238a032e600156e970",
       "version_major": 2,
       "version_minor": 0
      },
      "text/plain": [
       "Training:   0%|          | 0/400 [00:00<?, ?it/s]"
      ]
     },
     "metadata": {},
     "output_type": "display_data"
    },
    {
     "data": {
      "application/vnd.jupyter.widget-view+json": {
       "model_id": "538eb0637a86442981eb6c3601b8e31a",
       "version_major": 2,
       "version_minor": 0
      },
      "text/plain": [
       "Testing:   0%|          | 0/300 [00:00<?, ?it/s]"
      ]
     },
     "metadata": {},
     "output_type": "display_data"
    },
    {
     "name": "stdout",
     "output_type": "stream",
     "text": [
      "Train Loss: 0.5301 | Train Acc: 0.9518 | Test Loss: 0.7276 | Test Acc: 0.9274\n",
      "\n",
      "Epoch 10/10\n"
     ]
    },
    {
     "data": {
      "application/vnd.jupyter.widget-view+json": {
       "model_id": "46a4748a668145cbbfbabac3b0689405",
       "version_major": 2,
       "version_minor": 0
      },
      "text/plain": [
       "Training:   0%|          | 0/400 [00:00<?, ?it/s]"
      ]
     },
     "metadata": {},
     "output_type": "display_data"
    },
    {
     "data": {
      "application/vnd.jupyter.widget-view+json": {
       "model_id": "7a9718be06a44ac887eca93cc734558a",
       "version_major": 2,
       "version_minor": 0
      },
      "text/plain": [
       "Testing:   0%|          | 0/300 [00:00<?, ?it/s]"
      ]
     },
     "metadata": {},
     "output_type": "display_data"
    },
    {
     "name": "stdout",
     "output_type": "stream",
     "text": [
      "Train Loss: 0.5307 | Train Acc: 0.9507 | Test Loss: 0.7032 | Test Acc: 0.9365\n",
      "New best model saved with test accuracy: 0.9365\n"
     ]
    }
   ],
   "source": [
    "from modular.engine import train_prototype_network\n",
    "\n",
    "results = train_prototype_network(\n",
    "    model=model,\n",
    "    train_dataloader=train_loader,\n",
    "    test_dataloader=test_loader,\n",
    "    optimizer=optimizer,\n",
    "    n_way=5,  # Adjust based on your setup\n",
    "    epochs=10,  # Adjust as needed\n",
    "    device=device,\n",
    ")"
   ]
  },
  {
   "cell_type": "code",
   "execution_count": 14,
   "id": "ee790e80",
   "metadata": {},
   "outputs": [
    {
     "data": {
      "text/plain": [
       "{'train_loss': [0.6093176437914372,\n",
       "  0.5670165229588747,\n",
       "  0.5594360480457544,\n",
       "  0.5465258422493935,\n",
       "  0.5483134586364031,\n",
       "  0.5375832176953554,\n",
       "  0.5349967773258686,\n",
       "  0.5348615871369838,\n",
       "  0.5301328288763761,\n",
       "  0.5306673165410757],\n",
       " 'train_acc': [0.9131666718423367,\n",
       "  0.9355000038444996,\n",
       "  0.940111114680767,\n",
       "  0.9444444477558136,\n",
       "  0.9465000031888485,\n",
       "  0.9510555584728718,\n",
       "  0.951722225099802,\n",
       "  0.9505555585026741,\n",
       "  0.9518333362042903,\n",
       "  0.9506666696071625],\n",
       " 'test_loss': [0.7694217917323113,\n",
       "  0.7335426843166352,\n",
       "  0.7369341949621836,\n",
       "  0.7354630064964295,\n",
       "  0.7304144008954366,\n",
       "  0.7381244313716888,\n",
       "  0.71643303891023,\n",
       "  0.721181761821111,\n",
       "  0.727556278804938,\n",
       "  0.7032174928983053],\n",
       " 'test_acc': [0.932740744749705,\n",
       "  0.9352592631181081,\n",
       "  0.9285925968488058,\n",
       "  0.9365185223023097,\n",
       "  0.9386666703224182,\n",
       "  0.938000003695488,\n",
       "  0.9354814853270849,\n",
       "  0.9330370410283406,\n",
       "  0.9274074117342631,\n",
       "  0.9365185223023097]}"
      ]
     },
     "execution_count": 14,
     "metadata": {},
     "output_type": "execute_result"
    }
   ],
   "source": [
    "results"
   ]
  },
  {
   "cell_type": "code",
   "execution_count": null,
   "id": "fb245e3e",
   "metadata": {},
   "outputs": [],
   "source": []
  }
 ],
 "metadata": {
  "kernelspec": {
   "display_name": "Python 3",
   "language": "python",
   "name": "python3"
  },
  "language_info": {
   "codemirror_mode": {
    "name": "ipython",
    "version": 3
   },
   "file_extension": ".py",
   "mimetype": "text/x-python",
   "name": "python",
   "nbconvert_exporter": "python",
   "pygments_lexer": "ipython3",
   "version": "3.13.2"
  }
 },
 "nbformat": 4,
 "nbformat_minor": 5
}
