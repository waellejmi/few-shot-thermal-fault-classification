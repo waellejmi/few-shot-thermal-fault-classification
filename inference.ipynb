{
 "cells": [
  {
   "cell_type": "code",
   "execution_count": 14,
   "id": "91972534",
   "metadata": {},
   "outputs": [],
   "source": [
    "# 📦 Setup\n",
    "import torch\n",
    "from torchvision import transforms\n",
    "from modular import model_builder\n",
    "from PIL import Image\n",
    "import requests\n",
    "from io import BytesIO\n",
    "from pathlib import Path\n",
    "import matplotlib.pyplot as plt\n"
   ]
  },
  {
   "cell_type": "code",
   "execution_count": 15,
   "id": "3fab8551",
   "metadata": {},
   "outputs": [],
   "source": [
    "# 🔧 Config\n",
    "DEVICE = torch.device(\"cuda\" if torch.cuda.is_available() else \"cpu\")\n",
    "IMAGE_SIZE = (224, 224)  # Change if your model expects something else\n",
    "CLASS_NAMES = [\n",
    "    'A&B50', 'A&C&B10', 'A&C&B30', 'A&C10', 'A&C30',\n",
    "    'A10', 'A30', 'A50', 'Fan', 'Noload', 'Rotor-0']\n",
    "MODEL_PATH = Path(\"models/Resnet18_RetrainedV2.pth\")\n"
   ]
  },
  {
   "cell_type": "code",
   "execution_count": 16,
   "id": "fae44e9b",
   "metadata": {},
   "outputs": [],
   "source": [
    "model = model_builder.Resnet18(embedding_dim=256)\n",
    "\n",
    "# Load checkpoint properly\n",
    "checkpoint = torch.load(MODEL_PATH, map_location=DEVICE)\n",
    "\n",
    "# If the checkpoint is a dictionary (which it is), extract the state_dict\n",
    "model.load_state_dict(checkpoint[\"model_state_dict\"])\n",
    "\n",
    "model = model.to(DEVICE)\n",
    "model.eval()\n",
    "\n",
    "# 🔁 Transforms (must match training transforms)\n",
    "transform = transforms.Compose([\n",
    "    transforms.Resize(IMAGE_SIZE),\n",
    "    transforms.ToTensor(),\n",
    "    transforms.Normalize(mean=[0.5], std=[0.5])  # Adjust if RGB or different stats\n",
    "])\n"
   ]
  },
  {
   "cell_type": "code",
   "execution_count": 19,
   "id": "488c40e7",
   "metadata": {},
   "outputs": [],
   "source": [
    "def predict_image_from_url(image_url):\n",
    "    try:\n",
    "        response = requests.get(image_url)\n",
    "        image = Image.open(BytesIO(response.content)).convert(\"RGB\")\n",
    "    except Exception as e:\n",
    "        print(f\"Error loading image: {e}\")\n",
    "        return\n",
    "\n",
    "    input_tensor = transform(image).unsqueeze(0).to(DEVICE)\n",
    "    with torch.no_grad():\n",
    "        outputs = model(input_tensor)\n",
    "        probs = torch.softmax(outputs, dim=1)\n",
    "        pred_idx = torch.argmax(probs, dim=1).item()\n",
    "\n",
    "        # Check if pred_idx is valid\n",
    "        if pred_idx >= len(CLASS_NAMES):\n",
    "            print(f\"Invalid prediction index: {pred_idx}\")\n",
    "            return\n",
    "\n",
    "        pred_class = CLASS_NAMES[pred_idx]\n",
    "        confidence = probs[0][pred_idx].item()\n",
    "\n",
    "    plt.imshow(image)\n",
    "    plt.axis('off')\n",
    "    plt.title(f\"{pred_class} ({confidence*100:.2f}%)\")\n",
    "    plt.show()\n",
    "\n",
    "    print(f\"🔮 Predicted class: {pred_class} ({confidence*100:.2f}% confidence)\")"
   ]
  },
  {
   "cell_type": "code",
   "execution_count": 20,
   "id": "21cb07c5",
   "metadata": {},
   "outputs": [
    {
     "name": "stdout",
     "output_type": "stream",
     "text": [
      "Invalid prediction index: 170\n"
     ]
    }
   ],
   "source": [
    "predict_image_from_url(\"https://theengineeringmindset.com/wp-content/uploads/2019/05/Induction-motor-heat-thermal-image.png\")"
   ]
  },
  {
   "cell_type": "code",
   "execution_count": 23,
   "id": "25c5c748",
   "metadata": {},
   "outputs": [
    {
     "name": "stdout",
     "output_type": "stream",
     "text": [
      "Output shape: torch.Size([1, 256])\n"
     ]
    }
   ],
   "source": [
    "dummy_input = torch.randn(1, 3, 128, 128).to(DEVICE)\n",
    "print(\"Output shape:\", model(dummy_input).shape)\n"
   ]
  }
 ],
 "metadata": {
  "kernelspec": {
   "display_name": "Python 3",
   "language": "python",
   "name": "python3"
  },
  "language_info": {
   "codemirror_mode": {
    "name": "ipython",
    "version": 3
   },
   "file_extension": ".py",
   "mimetype": "text/x-python",
   "name": "python",
   "nbconvert_exporter": "python",
   "pygments_lexer": "ipython3",
   "version": "3.13.2"
  }
 },
 "nbformat": 4,
 "nbformat_minor": 5
}
