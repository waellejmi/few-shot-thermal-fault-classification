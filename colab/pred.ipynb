{
  "cells": [
    {
      "cell_type": "code",
      "execution_count": null,
      "metadata": {
        "colab": {
          "base_uri": "https://localhost:8080/"
        },
        "id": "wq6f7hsqdBHq",
        "outputId": "10cc834e-a515-4a3f-9fd2-6fd9a1331b30"
      },
      "outputs": [
        {
          "ename": "",
          "evalue": "",
          "output_type": "error",
          "traceback": [
            "\u001b[1;31mRunning cells with 'Python 3.13.3' requires the ipykernel package.\n",
            "\u001b[1;31m<a href='command:jupyter.createPythonEnvAndSelectController'>Create a Python Environment</a> with the required packages."
          ]
        }
      ],
      "source": [
        "from google.colab import drive\n",
        "drive.mount('/content/drive')\n",
        "\n",
        "!cp \"/content/drive/MyDrive/FSL/Resnet18_RetrainedV2.pth\" .\n",
        "!cp \"/content/drive/MyDrive/FSL/support_embeddings.pt\" .\n"
      ]
    },
    {
      "cell_type": "code",
      "execution_count": null,
      "metadata": {
        "id": "1-OYC03JXsBT"
      },
      "outputs": [],
      "source": [
        "import torch\n",
        "from torchvision import transforms\n",
        "import torchvision\n",
        "from PIL import Image\n",
        "import numpy as np\n",
        "import os\n",
        "from google.colab import files\n",
        "import ipywidgets as widgets\n",
        "from IPython.display import display, clear_output"
      ]
    },
    {
      "cell_type": "code",
      "execution_count": null,
      "metadata": {
        "id": "c6u9TPhIXtvc"
      },
      "outputs": [],
      "source": [
        "device = torch.device(\"cuda\" if torch.cuda.is_available() else \"cpu\")\n",
        "MODEL_PATH = \"Resnet18_RetrainedV2.pth\"\n",
        "CLASS_NAMES = [\n",
        "    'A&B50', 'A&C&B10', 'A&C&B30', 'A&C10', 'A&C30',\n",
        "    'A10', 'A30', 'A50', 'Fan', 'Noload', 'Rotor-0'\n",
        "]"
      ]
    },
    {
      "cell_type": "code",
      "execution_count": null,
      "metadata": {
        "colab": {
          "base_uri": "https://localhost:8080/"
        },
        "id": "KD0tsdfle359",
        "outputId": "b744d2fb-0633-49cb-8b94-20badb90b2a4"
      },
      "outputs": [
        {
          "name": "stdout",
          "output_type": "stream",
          "text": [
            "cuda\n"
          ]
        }
      ],
      "source": [
        "print(device)"
      ]
    },
    {
      "cell_type": "code",
      "execution_count": null,
      "metadata": {
        "id": "afSQY4oLX0k6"
      },
      "outputs": [],
      "source": [
        "class Resnet18(torch.nn.Module):\n",
        "    def __init__(self, embedding_dim=128):\n",
        "        super().__init__()\n",
        "        model_weights = torchvision.models.ResNet18_Weights.IMAGENET1K_V1\n",
        "        model = torchvision.models.resnet18(weights=model_weights)\n",
        "        self.encoder = torch.nn.Sequential(*list(model.children())[:-1])\n",
        "\n",
        "        self.embedding = torch.nn.Sequential(\n",
        "            torch.nn.Dropout(p=0.2, inplace=True),\n",
        "            torch.nn.Linear(in_features=512, out_features=embedding_dim, bias=True) ,\n",
        "            torch.nn.BatchNorm1d(embedding_dim)\n",
        "            )\n",
        "\n",
        "        for param in list(self.encoder.parameters())[:-4]:\n",
        "            param.requires_grad = False\n",
        "\n",
        "    def forward(self, x):\n",
        "        return torch.nn.functional.normalize(\n",
        "        self.embedding(torch.flatten(self.encoder(x), 1)),\n",
        "        p=2, dim=1\n",
        "        )\n"
      ]
    },
    {
      "cell_type": "code",
      "execution_count": null,
      "metadata": {
        "id": "6nyYi5A5X4oH"
      },
      "outputs": [],
      "source": [
        "def load_model():\n",
        "    \"\"\"Load trained model with embeddings\"\"\"\n",
        "    model = Resnet18(embedding_dim=256)\n",
        "    checkpoint = torch.load(MODEL_PATH, map_location=device)\n",
        "    model.load_state_dict(checkpoint[\"model_state_dict\"])\n",
        "    model.to(device).eval()\n",
        "    return model"
      ]
    },
    {
      "cell_type": "code",
      "execution_count": null,
      "metadata": {
        "id": "h10qbeFGX7Og"
      },
      "outputs": [],
      "source": [
        "# %%\n",
        "def predict(image_path, model, k_shot=5):\n",
        "    \"\"\"All-in-one prediction function\"\"\"\n",
        "    transform = transforms.Compose([\n",
        "        transforms.Resize((224, 224)),\n",
        "        transforms.ToTensor(),\n",
        "        transforms.Normalize(mean=[0.5], std=[0.5])\n",
        "    ])\n",
        "\n",
        "    # Load query image\n",
        "    img = transform(Image.open(image_path).convert(\"RGB\")).unsqueeze(0)\n",
        "\n",
        "    # Generate support embeddings (pre-computed)\n",
        "    support_embeds = torch.load(\"support_embeddings.pt\")\n",
        "\n",
        "    with torch.no_grad():\n",
        "        # Get query embedding\n",
        "        query_embed = model(img.to(device))\n",
        "\n",
        "        # Calculate distances\n",
        "        dists = torch.cdist(query_embed, support_embeds)\n",
        "        probs = torch.softmax(-dists/0.1, dim=1)\n",
        "\n",
        "        pred_idx = torch.argmax(probs).item()\n",
        "        confidence = probs[0][pred_idx].item()\n",
        "\n",
        "    return CLASS_NAMES[pred_idx], confidence\n"
      ]
    },
    {
      "cell_type": "code",
      "execution_count": null,
      "metadata": {
        "colab": {
          "base_uri": "https://localhost:8080/",
          "height": 98,
          "referenced_widgets": [
            "af037eb3b076414eac896ebfaca6c65e",
            "516aa6731b754ec4be762b55768f71dd",
            "c02a1d1179324656b693ebdcc05a2c5e",
            "d5ec2859d998436188d496fe4a00eb52",
            "a4705349e4f7461b92af587bf176bb4d",
            "0cdd969d03f34b2dae765646f24fcee1",
            "3523c5b8a25745459b41fd3eadbbfcc0",
            "4ba10846592b429b93bfa5e4c1696b05"
          ]
        },
        "id": "_Q3g4EpMX-l-",
        "outputId": "59466d06-9841-47f4-c090-5f318b805014"
      },
      "outputs": [
        {
          "data": {
            "application/vnd.jupyter.widget-view+json": {
              "model_id": "af037eb3b076414eac896ebfaca6c65e",
              "version_major": 2,
              "version_minor": 0
            },
            "text/plain": [
              "FileUpload(value={}, description='Upload Image')"
            ]
          },
          "metadata": {},
          "output_type": "display_data"
        },
        {
          "data": {
            "application/vnd.jupyter.widget-view+json": {
              "model_id": "d5ec2859d998436188d496fe4a00eb52",
              "version_major": 2,
              "version_minor": 0
            },
            "text/plain": [
              "Button(description='Predict', style=ButtonStyle())"
            ]
          },
          "metadata": {},
          "output_type": "display_data"
        },
        {
          "data": {
            "application/vnd.jupyter.widget-view+json": {
              "model_id": "3523c5b8a25745459b41fd3eadbbfcc0",
              "version_major": 2,
              "version_minor": 0
            },
            "text/plain": [
              "Output()"
            ]
          },
          "metadata": {},
          "output_type": "display_data"
        }
      ],
      "source": [
        " # %%\n",
        "# Prediction UI\n",
        "model = load_model()\n",
        "\n",
        "upload_btn = widgets.FileUpload(description=\"Upload Image\")\n",
        "predict_btn = widgets.Button(description=\"Predict\")\n",
        "output = widgets.Output()\n",
        "\n",
        "def on_predict_click(b):\n",
        "    with output:\n",
        "        clear_output()\n",
        "        if not upload_btn.value:\n",
        "            print(\"Please upload an image first\")\n",
        "            return\n",
        "\n",
        "        # Save uploaded file\n",
        "        uploaded = next(iter(upload_btn.value))\n",
        "        with open(\"temp.jpg\", \"wb\") as f:\n",
        "            f.write(upload_btn.value[uploaded]['content'])\n",
        "\n",
        "        # Make prediction\n",
        "        pred, conf = predict(\"temp.jpg\", model)\n",
        "        print(f\"Predicted: {pred} ({conf:.1%} confidence)\")\n",
        "\n",
        "predict_btn.on_click(on_predict_click)\n",
        "display(upload_btn, predict_btn, output)"
      ]
    }
  ],
  "metadata": {
    "accelerator": "GPU",
    "colab": {
      "gpuType": "T4",
      "provenance": []
    },
    "kernelspec": {
      "display_name": "Python 3",
      "name": "python3"
    },
    "language_info": {
      "name": "python",
      "version": "3.13.3"
    },
    "widgets": {
      "application/vnd.jupyter.widget-state+json": {
        "0cdd969d03f34b2dae765646f24fcee1": {
          "model_module": "@jupyter-widgets/controls",
          "model_module_version": "1.5.0",
          "model_name": "ButtonStyleModel",
          "state": {
            "_model_module": "@jupyter-widgets/controls",
            "_model_module_version": "1.5.0",
            "_model_name": "ButtonStyleModel",
            "_view_count": null,
            "_view_module": "@jupyter-widgets/base",
            "_view_module_version": "1.2.0",
            "_view_name": "StyleView",
            "button_color": null,
            "font_weight": ""
          }
        },
        "3523c5b8a25745459b41fd3eadbbfcc0": {
          "model_module": "@jupyter-widgets/output",
          "model_module_version": "1.0.0",
          "model_name": "OutputModel",
          "state": {
            "_dom_classes": [],
            "_model_module": "@jupyter-widgets/output",
            "_model_module_version": "1.0.0",
            "_model_name": "OutputModel",
            "_view_count": null,
            "_view_module": "@jupyter-widgets/output",
            "_view_module_version": "1.0.0",
            "_view_name": "OutputView",
            "layout": "IPY_MODEL_4ba10846592b429b93bfa5e4c1696b05",
            "msg_id": "",
            "outputs": [
              {
                "name": "stdout",
                "output_type": "stream",
                "text": [
                  "Predicted: A50 (34.5% confidence)\n"
                ]
              }
            ]
          }
        },
        "4ba10846592b429b93bfa5e4c1696b05": {
          "model_module": "@jupyter-widgets/base",
          "model_module_version": "1.2.0",
          "model_name": "LayoutModel",
          "state": {
            "_model_module": "@jupyter-widgets/base",
            "_model_module_version": "1.2.0",
            "_model_name": "LayoutModel",
            "_view_count": null,
            "_view_module": "@jupyter-widgets/base",
            "_view_module_version": "1.2.0",
            "_view_name": "LayoutView",
            "align_content": null,
            "align_items": null,
            "align_self": null,
            "border": null,
            "bottom": null,
            "display": null,
            "flex": null,
            "flex_flow": null,
            "grid_area": null,
            "grid_auto_columns": null,
            "grid_auto_flow": null,
            "grid_auto_rows": null,
            "grid_column": null,
            "grid_gap": null,
            "grid_row": null,
            "grid_template_areas": null,
            "grid_template_columns": null,
            "grid_template_rows": null,
            "height": null,
            "justify_content": null,
            "justify_items": null,
            "left": null,
            "margin": null,
            "max_height": null,
            "max_width": null,
            "min_height": null,
            "min_width": null,
            "object_fit": null,
            "object_position": null,
            "order": null,
            "overflow": null,
            "overflow_x": null,
            "overflow_y": null,
            "padding": null,
            "right": null,
            "top": null,
            "visibility": null,
            "width": null
          }
        },
        "516aa6731b754ec4be762b55768f71dd": {
          "model_module": "@jupyter-widgets/base",
          "model_module_version": "1.2.0",
          "model_name": "LayoutModel",
          "state": {
            "_model_module": "@jupyter-widgets/base",
            "_model_module_version": "1.2.0",
            "_model_name": "LayoutModel",
            "_view_count": null,
            "_view_module": "@jupyter-widgets/base",
            "_view_module_version": "1.2.0",
            "_view_name": "LayoutView",
            "align_content": null,
            "align_items": null,
            "align_self": null,
            "border": null,
            "bottom": null,
            "display": null,
            "flex": null,
            "flex_flow": null,
            "grid_area": null,
            "grid_auto_columns": null,
            "grid_auto_flow": null,
            "grid_auto_rows": null,
            "grid_column": null,
            "grid_gap": null,
            "grid_row": null,
            "grid_template_areas": null,
            "grid_template_columns": null,
            "grid_template_rows": null,
            "height": null,
            "justify_content": null,
            "justify_items": null,
            "left": null,
            "margin": null,
            "max_height": null,
            "max_width": null,
            "min_height": null,
            "min_width": null,
            "object_fit": null,
            "object_position": null,
            "order": null,
            "overflow": null,
            "overflow_x": null,
            "overflow_y": null,
            "padding": null,
            "right": null,
            "top": null,
            "visibility": null,
            "width": null
          }
        },
        "a4705349e4f7461b92af587bf176bb4d": {
          "model_module": "@jupyter-widgets/base",
          "model_module_version": "1.2.0",
          "model_name": "LayoutModel",
          "state": {
            "_model_module": "@jupyter-widgets/base",
            "_model_module_version": "1.2.0",
            "_model_name": "LayoutModel",
            "_view_count": null,
            "_view_module": "@jupyter-widgets/base",
            "_view_module_version": "1.2.0",
            "_view_name": "LayoutView",
            "align_content": null,
            "align_items": null,
            "align_self": null,
            "border": null,
            "bottom": null,
            "display": null,
            "flex": null,
            "flex_flow": null,
            "grid_area": null,
            "grid_auto_columns": null,
            "grid_auto_flow": null,
            "grid_auto_rows": null,
            "grid_column": null,
            "grid_gap": null,
            "grid_row": null,
            "grid_template_areas": null,
            "grid_template_columns": null,
            "grid_template_rows": null,
            "height": null,
            "justify_content": null,
            "justify_items": null,
            "left": null,
            "margin": null,
            "max_height": null,
            "max_width": null,
            "min_height": null,
            "min_width": null,
            "object_fit": null,
            "object_position": null,
            "order": null,
            "overflow": null,
            "overflow_x": null,
            "overflow_y": null,
            "padding": null,
            "right": null,
            "top": null,
            "visibility": null,
            "width": null
          }
        },
        "af037eb3b076414eac896ebfaca6c65e": {
          "model_module": "@jupyter-widgets/controls",
          "model_module_version": "1.5.0",
          "model_name": "FileUploadModel",
          "state": {
            "_counter": 1,
            "_dom_classes": [],
            "_model_module": "@jupyter-widgets/controls",
            "_model_module_version": "1.5.0",
            "_model_name": "FileUploadModel",
            "_view_count": null,
            "_view_module": "@jupyter-widgets/controls",
            "_view_module_version": "1.5.0",
            "_view_name": "FileUploadView",
            "accept": "",
            "button_style": "",
            "data": [
              null
            ],
            "description": "Upload Image",
            "description_tooltip": null,
            "disabled": false,
            "error": "",
            "icon": "upload",
            "layout": "IPY_MODEL_516aa6731b754ec4be762b55768f71dd",
            "metadata": [
              {
                "lastModified": 1746276980068,
                "name": "1.jpg",
                "size": 215727,
                "type": "image/jpeg"
              }
            ],
            "multiple": false,
            "style": "IPY_MODEL_c02a1d1179324656b693ebdcc05a2c5e"
          }
        },
        "c02a1d1179324656b693ebdcc05a2c5e": {
          "model_module": "@jupyter-widgets/controls",
          "model_module_version": "1.5.0",
          "model_name": "ButtonStyleModel",
          "state": {
            "_model_module": "@jupyter-widgets/controls",
            "_model_module_version": "1.5.0",
            "_model_name": "ButtonStyleModel",
            "_view_count": null,
            "_view_module": "@jupyter-widgets/base",
            "_view_module_version": "1.2.0",
            "_view_name": "StyleView",
            "button_color": null,
            "font_weight": ""
          }
        },
        "d5ec2859d998436188d496fe4a00eb52": {
          "model_module": "@jupyter-widgets/controls",
          "model_module_version": "1.5.0",
          "model_name": "ButtonModel",
          "state": {
            "_dom_classes": [],
            "_model_module": "@jupyter-widgets/controls",
            "_model_module_version": "1.5.0",
            "_model_name": "ButtonModel",
            "_view_count": null,
            "_view_module": "@jupyter-widgets/controls",
            "_view_module_version": "1.5.0",
            "_view_name": "ButtonView",
            "button_style": "",
            "description": "Predict",
            "disabled": false,
            "icon": "",
            "layout": "IPY_MODEL_a4705349e4f7461b92af587bf176bb4d",
            "style": "IPY_MODEL_0cdd969d03f34b2dae765646f24fcee1",
            "tooltip": ""
          }
        }
      }
    }
  },
  "nbformat": 4,
  "nbformat_minor": 0
}
